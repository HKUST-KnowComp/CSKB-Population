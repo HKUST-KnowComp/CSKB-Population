{
 "cells": [
  {
   "cell_type": "code",
   "execution_count": 2,
   "metadata": {},
   "outputs": [],
   "source": [
    "import networkx as nx\n",
    "\n",
    "G_aser = nx.read_gpickle(\"/home/data/tfangaa/CKGP/data/ASER_raw_data/G_aser_norm_nodefilter_di_with_pattern.pickle\")\n",
    "\n",
    "cs_rels = ['oEffect', 'xEffect', 'general Effect',\n",
    "           'oWant','xWant','general Want',\n",
    "           'oReact', 'xReact',   'general React',\n",
    "           'xAttr',  'xNeed', 'xIntent', \n",
    "           'isBefore',  'isAfter', 'HinderedBy', \n",
    "           'Causes',   'xReason', 'HasSubEvent',]\n",
    "atomic_rels = ['oEffect', 'xEffect', 'oWant','xWant', \n",
    "               'oReact', 'xReact', 'xAttr',  'xNeed', 'xIntent',\n",
    "              'isBefore', 'isAfter', 'HinderedBy']\n",
    "cs_rel2cat = {\n",
    "  'oEffect':'Effects', 'xEffect':'Effects', 'general Effect':'Effects',\n",
    "   'oWant':'Effects','xWant':'Effects', 'general Want':'Effects',\n",
    "   'oReact':'Reacts', 'xReact':'Reacts', 'general React':'Reacts',\n",
    "   'xAttr':'Stative',  'xNeed':'CausedBy', 'xIntent':'CausedBy', \n",
    "   'isBefore':'Effects',  'isAfter':'CausedBy', 'HinderedBy':'HinderedBy', \n",
    "   'Causes':'Effects',   'xReason':'CausedBy', 'HasSubEvent':'HasSubEvent',\n",
    "}\n",
    "cat_edge_rules = {\n",
    "  \"Effects\":{\n",
    "    \"out\":[\"Result\", \"Precedence\"],\n",
    "    \"in\":[\"Condition\", \"Succession\", \"Reason\"],\n",
    "    \"both_dir\":[],\n",
    "  },\n",
    "  \"Reacts\":{\n",
    "    \"out\":[\"Result\", \"Precedence\"],\n",
    "    \"in\":[\"Condition\", \"Succession\", \"Reason\"],\n",
    "    \"both_dir\":[],\n",
    "  },\n",
    "  \"CausedBy\":{\n",
    "    \"out\":[\"Condition\", \"Succession\", \"Reason\"],\n",
    "    \"in\":[\"Result\", \"Precedence\"],\n",
    "    \"both_dir\":[],\n",
    "  },\n",
    "  \"Stative\":{\n",
    "    \"out\" :[],\n",
    "    \"in\":[],\n",
    "    \"both_dir\":[\"Synchronous\", \"Reason\", \"Result\", \"Condition\", \"Conjunction\", \"Restatement\"],\n",
    "  },\n",
    "  \"HinderedBy\":{\n",
    "    \"out\" :[],\n",
    "    \"in\":[],\n",
    "    \"both_dir\":[\"Concession\", \"Alternative\"],\n",
    "  },\n",
    "  \"HasSubEvent\":{\n",
    "    \"out\" :[],\n",
    "    \"in\":[],\n",
    "    \"both_dir\":[\"Synchronous\", \"Conjunction\"],\n",
    "  }\n",
    "}\n",
    "cat_node_rules = {\n",
    "  \"Effects\":[],\n",
    "\"Reacts\":[\"s-v-a\", \"s-be-a\", \"s-v\"],\n",
    "\"CausedBy\":[],\n",
    "\"Stative\":[\"s-v-a\", \"s-be-a\", \"spass-v\"],\n",
    "\"HinderedBy\":[],\n",
    "\"HasSubEvent\":[],\n",
    "}"
   ]
  },
  {
   "cell_type": "markdown",
   "metadata": {},
   "source": [
    "|relation|ASER edges types|ASER nodes types|\n",
    "|:--:|:--:|:--:|\n",
    "|Effect | Result, Precedence, Condition^-1, Succession^-1, Reason^-1 | - |\n",
    "|Reaction| Result, Precedence, Condition^-1, Succession^-1, Reason^-1 |s-v/be-a/o, s-v-be-a/o, s-v, spass-v |\n",
    "|CausedBy | Condition, Succession, Reason, Result^-1, Precedence^-1, | - |\n",
    "|Stative | Synchronous^±1, Reason^±1, Result^±1, Condition^±1, Conjunction^±1, Restatement^±1 |s-v/be-a/o, s-v-be-a/o, s-v, spass-v|\n",
    "|HinderedBy| Concession, Alternative | - |\n",
    "|HasSubEvent| Synchronous^±1, Conjunction^±1 | -|"
   ]
  },
  {
   "cell_type": "code",
   "execution_count": 3,
   "metadata": {},
   "outputs": [
    {
     "name": "stderr",
     "output_type": "stream",
     "text": [
      "100%|██████████| 69002035/69002035 [30:24<00:00, 37815.03it/s]\n"
     ]
    }
   ],
   "source": [
    "# 1. test set heads\n",
    "\n",
    "def check_relation(aser_rel_list, candi_rel_list):\n",
    "    \"\"\"\n",
    "      Check if any relation in aser_rel_list is in candi_rel_list\n",
    "    \"\"\"\n",
    "    return any(r_aser in candi_rel_list for r_aser in aser_rel_list)\n",
    "def check_node_pattern(patterns, selected_patterns=[]):\n",
    "    \"\"\"\n",
    "      patterns: a list of patterns of a node.\n",
    "      selected_patterns: a list. if [], then return True anyway\n",
    "    \"\"\"\n",
    "    if len(selected_patterns) == 0:\n",
    "        return True\n",
    "    else:\n",
    "        return any(p in selected_patterns for p in patterns)\n",
    "\n",
    "from tqdm import tqdm\n",
    "candidates = dict([(r, []) for r in cs_rels])\n",
    "\n",
    "for head, tail, feat in tqdm(G_aser.edges.data()):\n",
    "    for r in atomic_rels:\n",
    "        # check if this is an ASER edge that suits the \n",
    "        edge_rules = cat_edge_rules[cs_rel2cat[r]]\n",
    "        node_rules = cat_node_rules[cs_rel2cat[r]]\n",
    "        if check_relation(feat[\"relation\"].keys(), edge_rules[\"out\"] + edge_rules[\"both_dir\"] )\\\n",
    "            and check_node_pattern(G_aser.nodes[tail][\"patterns\"], node_rules):\n",
    "            candidates[r].append((head, tail))\n",
    "        if check_relation(feat[\"relation\"].keys(), edge_rules[\"in\"] + edge_rules[\"both_dir\"] )\\\n",
    "            and check_node_pattern(G_aser.nodes[head][\"patterns\"], node_rules):\n",
    "            candidates[r].append((tail, head))"
   ]
  },
  {
   "cell_type": "code",
   "execution_count": 9,
   "metadata": {},
   "outputs": [
    {
     "name": "stderr",
     "output_type": "stream",
     "text": [
      "100%|██████████| 13766390/13766390 [00:51<00:00, 267082.51it/s]\n",
      "100%|██████████| 13766390/13766390 [00:16<00:00, 834940.90it/s]\n",
      "100%|██████████| 13766390/13766390 [00:15<00:00, 908696.15it/s]\n",
      "100%|██████████| 13766390/13766390 [00:14<00:00, 935796.71it/s]\n",
      "100%|██████████| 8370927/8370927 [00:08<00:00, 1006224.82it/s]\n",
      "100%|██████████| 8370927/8370927 [00:08<00:00, 964141.37it/s] \n",
      "100%|██████████| 21625813/21625813 [00:23<00:00, 929434.52it/s] \n",
      "100%|██████████| 13766390/13766390 [00:13<00:00, 990868.42it/s] \n",
      "100%|██████████| 13766390/13766390 [00:13<00:00, 998891.64it/s] \n"
     ]
    }
   ],
   "source": [
    "for r in atomic_rels:\n",
    "    candidates[r] = list(set(candidates[r]))\n",
    "\n",
    "# post process filter\n",
    "# remove triples that doesn't follow the definition of relations:\n",
    "# e.g., for xEffect, the tail must start with PersonX.\n",
    "filtered_triples = dict([(r, []) for r in cs_rels])\n",
    "for r in atomic_rels:\n",
    "    if r.startswith(\"x\"):\n",
    "        for head, tail in tqdm(candidates[r]):\n",
    "            if head.startswith(\"PersonX\") and tail.startswith(\"PersonX\"):\n",
    "                filtered_triples[r].append((head, tail))\n",
    "    elif r.startswith(\"o\"):\n",
    "        for head, tail in tqdm(candidates[r]):\n",
    "            if head.startswith(\"PersonX\") and tail.startswith(\"PersonY\"):\n",
    "                filtered_triples[r].append((head, tail))\n",
    "    else:\n",
    "        filtered_triples[r] = candidates[r]"
   ]
  },
  {
   "cell_type": "code",
   "execution_count": 12,
   "metadata": {},
   "outputs": [
    {
     "name": "stdout",
     "output_type": "stream",
     "text": [
      "oEffect 901681\n",
      "xEffect 1784749\n",
      "oWant 901681\n",
      "xWant 1784749\n",
      "oReact 541084\n",
      "xReact 1055518\n",
      "xAttr 2549305\n",
      "xNeed 1784749\n",
      "xIntent 1784749\n",
      "isBefore 13766390\n",
      "isAfter 13766390\n",
      "HinderedBy 2832829\n"
     ]
    }
   ],
   "source": [
    "sum([len(filtered_triples[r]) for r in atomic_rels])\n",
    "for r in atomic_rels:\n",
    "    print(r, len(filtered_triples[r]))"
   ]
  },
  {
   "cell_type": "code",
   "execution_count": 11,
   "metadata": {},
   "outputs": [],
   "source": [
    "import numpy as np\n",
    "np.save(\"../data/DISCOS_infer_candidates_filter\", filtered_triples)"
   ]
  },
  {
   "cell_type": "code",
   "execution_count": null,
   "metadata": {},
   "outputs": [],
   "source": []
  }
 ],
 "metadata": {
  "kernelspec": {
   "display_name": "Python 3",
   "language": "python",
   "name": "python3"
  },
  "language_info": {
   "codemirror_mode": {
    "name": "ipython",
    "version": 3
   },
   "file_extension": ".py",
   "mimetype": "text/x-python",
   "name": "python",
   "nbconvert_exporter": "python",
   "pygments_lexer": "ipython3",
   "version": "3.8.5"
  }
 },
 "nbformat": 4,
 "nbformat_minor": 4
}
