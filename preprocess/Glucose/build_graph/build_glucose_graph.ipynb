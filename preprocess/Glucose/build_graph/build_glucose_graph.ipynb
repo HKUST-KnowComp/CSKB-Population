{
 "cells": [
  {
   "cell_type": "code",
   "execution_count": 1,
   "metadata": {},
   "outputs": [],
   "source": [
    "import sys\n",
    "\n",
    "import networkx as nx\n",
    "import numpy as np\n",
    "from tqdm import trange\n",
    "\n",
    "sys.path.append('../')\n",
    "from utils.aser_to_glucose import generate_aser_to_glucose_dict"
   ]
  },
  {
   "cell_type": "code",
   "execution_count": 2,
   "metadata": {},
   "outputs": [],
   "source": [
    "# Load the Glucose matching result and unusable dicts\n",
    "glucose_matching = np.load('../process_dataset/Final_Version/glucose_final_matching.npy', allow_pickle=True).item()\n",
    "fail_index = np.load('./unusable_index.npy', allow_pickle=True).item()"
   ]
  },
  {
   "cell_type": "code",
   "execution_count": 3,
   "metadata": {},
   "outputs": [],
   "source": [
    "total_head, total_tail = [], []\n",
    "both_head, both_tail = [], []"
   ]
  },
  {
   "cell_type": "code",
   "execution_count": 4,
   "metadata": {},
   "outputs": [
    {
     "name": "stderr",
     "output_type": "stream",
     "text": [
      "100%|██████████| 10/10 [00:02<00:00,  4.13it/s]\n"
     ]
    },
    {
     "name": "stdout",
     "output_type": "stream",
     "text": [
      "There are total 123267 unique heads and 127853 unique tails.\n",
      "Among which, 97922 heads and 100624 tails contribute are connected by edges.\n"
     ]
    }
   ],
   "source": [
    "for i in trange(1, 11):\n",
    "    for ind in glucose_matching[i].keys():\n",
    "        if ind in fail_index['head'][i] or ind in fail_index['tail'][i]:\n",
    "            continue\n",
    "        else:\n",
    "            total_head.extend(glucose_matching[i][ind]['total_head'])\n",
    "            total_tail.extend(glucose_matching[i][ind]['total_tail'])\n",
    "            both_head.extend([h[0] for h in glucose_matching[i][ind]['both']])\n",
    "            both_tail.extend([h[1] for h in glucose_matching[i][ind]['both']])\n",
    "total_tail = list(np.unique(total_tail))\n",
    "total_head = list(np.unique(total_head))\n",
    "both_tail = list(np.unique(both_tail))\n",
    "both_head = list(np.unique(both_head))\n",
    "print(\n",
    "    \"There are total {} unique heads and {} unique tails.\\nAmong which, {} heads and {} tails contribute are connected by edges.\".format(\n",
    "        len(total_head), len(total_tail), len(both_head), len(both_tail)))"
   ]
  },
  {
   "cell_type": "code",
   "execution_count": 5,
   "metadata": {},
   "outputs": [
    {
     "name": "stderr",
     "output_type": "stream",
     "text": [
      "100%|██████████| 10/10 [02:07<00:00, 12.79s/it]\n"
     ]
    }
   ],
   "source": [
    "# Add the edges!\n",
    "G_Glucose = nx.DiGraph()\n",
    "for i in trange(1, 11):\n",
    "    for ind in glucose_matching[i].keys():\n",
    "        if ind in fail_index['head'][i] or ind in fail_index['tail'][i]:\n",
    "            continue\n",
    "        else:\n",
    "            for h, t in glucose_matching[i][ind]['both']:\n",
    "                _, re_h, re_t, _ = generate_aser_to_glucose_dict(h, t, True)\n",
    "                if (re_h, re_t) not in G_Glucose:\n",
    "                    G_Glucose.add_edge(re_h, re_t, dataset='GLUCOSE', relation='Cause', list_id=i,\n",
    "                                       hid=glucose_matching[i][ind]['head_id'], tid=glucose_matching[i][ind]['tail_id'])\n",
    "            for head in glucose_matching[i][ind]['total_head']:\n",
    "                for tail in glucose_matching[i][ind]['total_tail']:\n",
    "                    _, re_head, re_tail, _ = generate_aser_to_glucose_dict(head, tail)\n",
    "                    G_Glucose.add_node(re_head, dataset='GLUCOSE', list_id=i, hid=glucose_matching[i][ind]['head_id'])\n",
    "                    G_Glucose.add_node(re_tail, dataset='GLUCOSE', list_id=i, tid=glucose_matching[i][ind]['tail_id'])\n",
    "                    if head.split(' ')[0] == tail.split(' ')[0]:\n",
    "                        if (re_head, re_tail) not in G_Glucose:\n",
    "                            G_Glucose.add_edge(re_head, re_tail, dataset='GLUCOSE', relation='Cause', list_id=i,\n",
    "                                               hid=glucose_matching[i][ind]['head_id'],\n",
    "                                               tid=glucose_matching[i][ind]['tail_id'])"
   ]
  },
  {
   "cell_type": "code",
   "execution_count": 6,
   "metadata": {},
   "outputs": [
    {
     "name": "stdout",
     "output_type": "stream",
     "text": [
      "('PersonX go to game', 'PersonX give up a home run', {'dataset': 'GLUCOSE', 'relation': 'Cause', 'list_id': 6, 'hid': 11080, 'tid': 11080})\n",
      "('PersonX hold back', {'dataset': 'GLUCOSE', 'list_id': 1, 'tid': 7})\n",
      "('PersonX go to game', 'PersonX watch the game', {'dataset': 'GLUCOSE', 'relation': 'Cause', 'list_id': 6, 'hid': 1981, 'tid': 1981})\n",
      "('PersonX hold back tear', {'dataset': 'GLUCOSE', 'list_id': 1, 'tid': 7})\n",
      "('PersonX go to game', 'PersonX feel disappointed', {'dataset': 'GLUCOSE', 'relation': 'Cause', 'list_id': 7, 'hid': 11080, 'tid': 11080})\n",
      "('PersonY hold back', {'dataset': 'GLUCOSE', 'list_id': 1, 'tid': 7})\n",
      "('PersonX go to game', 'PersonX be at home', {'dataset': 'GLUCOSE', 'relation': 'Cause', 'list_id': 8, 'hid': 11080, 'tid': 11080})\n",
      "('PersonY hold back tear', {'dataset': 'GLUCOSE', 'list_id': 1, 'tid': 7})\n",
      "('PersonX go to game', 'PersonY have be', {'dataset': 'GLUCOSE', 'relation': 'Cause', 'list_id': 10, 'hid': 11080, 'tid': 11080})\n",
      "('PersonX like to grab it', {'dataset': 'GLUCOSE', 'list_id': 9, 'hid': 8686, 'tid': 8686})\n",
      "('PersonX go to game', 'PersonX have be', {'dataset': 'GLUCOSE', 'relation': 'Cause', 'list_id': 10, 'hid': 11080, 'tid': 11080})\n",
      "('it come off', {'dataset': 'GLUCOSE', 'list_id': 6, 'tid': 8, 'hid': 8})\n",
      "('PersonX team win', 'the win', {'dataset': 'GLUCOSE', 'relation': 'Cause', 'list_id': 1, 'hid': 17801, 'tid': 17801})\n",
      "('PersonX see something', {'dataset': 'GLUCOSE', 'list_id': 10, 'hid': 9776, 'tid': 12286})\n",
      "('PersonX team win', 'PersonX celebrate', {'dataset': 'GLUCOSE', 'relation': 'Cause', 'list_id': 1, 'hid': 17801, 'tid': 17801})\n",
      "('PersonX ask PersonY for something', {'dataset': 'GLUCOSE', 'list_id': 10, 'tid': 3218, 'hid': 18403})\n",
      "('PersonX team win', 'PersonX be proud of team', {'dataset': 'GLUCOSE', 'relation': 'Cause', 'list_id': 1, 'hid': 12881, 'tid': 12881})\n",
      "('PersonX ask PersonY for that', {'dataset': 'GLUCOSE', 'list_id': 10, 'tid': 3218, 'hid': 8509})\n",
      "('team win', 'PersonX celebrate', {'dataset': 'GLUCOSE', 'relation': 'Cause', 'list_id': 1, 'hid': 17801, 'tid': 17801})\n",
      "('PersonX see that', {'dataset': 'GLUCOSE', 'list_id': 10, 'hid': 9776, 'tid': 12286})\n",
      "('team win', 'the win', {'dataset': 'GLUCOSE', 'relation': 'Cause', 'list_id': 1, 'hid': 17801, 'tid': 17801})\n",
      "('PersonY ask PersonZ for something', {'dataset': 'GLUCOSE', 'list_id': 6, 'tid': 3218})\n",
      "('team win', 'PersonX feel excited', {'dataset': 'GLUCOSE', 'relation': 'Cause', 'list_id': 7, 'hid': 2966, 'tid': 2966})\n",
      "('PersonY ask PersonZ for that', {'dataset': 'GLUCOSE', 'list_id': 6, 'tid': 3218})\n",
      "('PersonX be hungry', 'PersonX eat something', {'dataset': 'GLUCOSE', 'relation': 'Cause', 'list_id': 6, 'hid': 13372, 'tid': 13372})\n",
      "('PersonY ask PersonX for something', {'dataset': 'GLUCOSE', 'list_id': 6, 'tid': 3218})\n",
      "('PersonX be hungry', 'PersonX eat that', {'dataset': 'GLUCOSE', 'relation': 'Cause', 'list_id': 6, 'hid': 13372, 'tid': 13372})\n",
      "('PersonY ask PersonX for that', {'dataset': 'GLUCOSE', 'list_id': 6, 'tid': 3218})\n",
      "('PersonX be hungry', 'PersonX have dinner', {'dataset': 'GLUCOSE', 'relation': 'Cause', 'list_id': 1, 'hid': 1435, 'tid': 1435})\n",
      "('PersonX eat it', {'dataset': 'GLUCOSE', 'list_id': 10, 'hid': 17840, 'tid': 18231})\n",
      "('PersonX be hungry', 'PersonX order that', {'dataset': 'GLUCOSE', 'relation': 'Cause', 'list_id': 6, 'hid': 14325, 'tid': 14325})\n",
      "('PersonX skip dinner', {'dataset': 'GLUCOSE', 'list_id': 8, 'tid': 11, 'hid': 7520})\n",
      "('PersonX be hungry', 'PersonX order something', {'dataset': 'GLUCOSE', 'relation': 'Cause', 'list_id': 6, 'hid': 14325, 'tid': 14325})\n",
      "('PersonY skip dinner', {'dataset': 'GLUCOSE', 'list_id': 1, 'tid': 11})\n",
      "('PersonX be hungry', 'PersonX look for food', {'dataset': 'GLUCOSE', 'relation': 'Cause', 'list_id': 6, 'hid': 12973, 'tid': 12973})\n",
      "('PersonX be very pale', {'dataset': 'GLUCOSE', 'list_id': 10, 'hid': 8952})\n",
      "('PersonX be hungry', 'PersonX decide to get something', {'dataset': 'GLUCOSE', 'relation': 'Cause', 'list_id': 1, 'hid': 20018, 'tid': 20018})\n",
      "('PersonX go on vacation', {'dataset': 'GLUCOSE', 'list_id': 10, 'tid': 5696, 'hid': 14472})\n",
      "('PersonX be hungry', 'make PersonX something', {'dataset': 'GLUCOSE', 'relation': 'Cause', 'list_id': 1, 'hid': 2173, 'tid': 2173})\n",
      "('PersonX want a tan', {'dataset': 'GLUCOSE', 'list_id': 10, 'hid': 2533, 'tid': 8952})\n"
     ]
    }
   ],
   "source": [
    "edge=list(G_Glucose.edges.data())\n",
    "node=list(G_Glucose.nodes.data())\n",
    "for i in range(10,30):\n",
    "    print(edge[i])\n",
    "    print(node[i])"
   ]
  },
  {
   "cell_type": "code",
   "execution_count": 7,
   "metadata": {},
   "outputs": [],
   "source": [
    "nx.write_gpickle(G_Glucose, './G_Glucose.pickle')\n",
    "nx.write_gpickle(G_Glucose, '../../dataset/G_Glucose.pickle')"
   ]
  },
  {
   "cell_type": "code",
   "execution_count": 8,
   "metadata": {
    "scrolled": true
   },
   "outputs": [
    {
     "name": "stdout",
     "output_type": "stream",
     "text": [
      "Total Edges in Glucose: 236323\n",
      "Total Nodes in Glucose: 92729\n"
     ]
    }
   ],
   "source": [
    "print(\"Total Edges in Glucose: {}\".format(sum([1 for _, _, feat_dict in G_Glucose.edges.data()])))\n",
    "print(\"Total Nodes in Glucose: {}\".format(sum([1 for _, feat_dict in G_Glucose.nodes.data()])))"
   ]
  },
  {
   "cell_type": "code",
   "execution_count": 10,
   "metadata": {},
   "outputs": [
    {
     "name": "stdout",
     "output_type": "stream",
     "text": [
      "True\n",
      "True\n",
      "True\n",
      "True\n",
      "True\n",
      "True\n",
      "True\n"
     ]
    }
   ],
   "source": [
    "nodes=list(G_Glucose.nodes.keys())\n",
    "print('PersonX eat something' in nodes)\n",
    "print('PersonX have a something' in nodes)\n",
    "print('PersonX have a it' in nodes)\n",
    "print('PersonX eat a something' in nodes)\n",
    "print('PersonX eat a it' in nodes)\n",
    "print('PersonX wait for it' in nodes)\n",
    "print('PersonX wait for something' in nodes)"
   ]
  }
 ],
 "metadata": {
  "kernelspec": {
   "display_name": "Python 3",
   "language": "python",
   "name": "python3"
  },
  "language_info": {
   "codemirror_mode": {
    "name": "ipython",
    "version": 3
   },
   "file_extension": ".py",
   "mimetype": "text/x-python",
   "name": "python",
   "nbconvert_exporter": "python",
   "pygments_lexer": "ipython3",
   "version": "3.8.5"
  }
 },
 "nbformat": 4,
 "nbformat_minor": 4
}
