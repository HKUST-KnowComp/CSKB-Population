{
 "cells": [
  {
   "cell_type": "markdown",
   "metadata": {},
   "source": [
    "# Postprocess\n",
    "\n",
    "### 1. Merge relation\n",
    "\n",
    "1, 6: xEffect / oEffect / objEffect\n",
    "\n",
    "2: xAttr(feels/be), xIntent\n",
    "\n",
    "3, 4, 8, 9: Causes (general causes)\n",
    "\n",
    "5, 10: xWant, oWant\n",
    "\n",
    "7: xReact/oReact\n",
    "\n",
    "### 2. Prepare train/dev/test"
   ]
  },
  {
   "cell_type": "code",
   "execution_count": 1,
   "metadata": {},
   "outputs": [],
   "source": [
    "import os\n",
    "import numpy as np\n",
    "import networkx as nx\n",
    "from tqdm import tqdm\n",
    "\n",
    "G_Glucose = nx.read_gpickle(\"../../data/glucose_data/update/G_Glucose_v2.pickle\")"
   ]
  },
  {
   "cell_type": "code",
   "execution_count": 18,
   "metadata": {},
   "outputs": [
    {
     "name": "stderr",
     "output_type": "stream",
     "text": [
      "/home/tfangaa/anaconda3/envs/torch16/lib/python3.8/site-packages/numpy/core/_asarray.py:136: VisibleDeprecationWarning: Creating an ndarray from ragged nested sequences (which is a list-or-tuple of lists-or-tuples-or ndarrays with different lengths or shapes) is deprecated. If you meant to do this, you must specify 'dtype=object' when creating the ndarray\n",
      "  return array(a, dtype, copy=False, order=order, subok=True)\n"
     ]
    }
   ],
   "source": [
    "import os\n",
    "import numpy as np\n",
    "import networkx as nx\n",
    "from tqdm import tqdm\n",
    "\n",
    "G_Glucose = nx.read_gpickle(\"../../data/glucose_data/update/G_Glucose_v2.pickle\")\n",
    "if os.path.exists(\"../../data/glucose_data/update/split_v2.npy\"):\n",
    "  trn_idx, dev_idx, tst_idx = np.load(\"../../data/glucose_data/update/split_v2.npy\", allow_pickle=True)\n",
    "else:\n",
    "  all_hids = list(set([feat[\"hid\"] for h, t, feat in G_Glucose.edges.data()]))\n",
    "  all_hids.sort()\n",
    "  np.random.shuffle(all_hids)\n",
    "  trn_idx, dev_idx, tst_idx = all_hids[:int(0.8*len(all_hids))],\\\n",
    "    all_hids[int(0.8*len(all_hids)):int(0.9*len(all_hids))],\\\n",
    "    all_hids[int(0.9*len(all_hids)):]\n",
    "  np.save(\"../../data/glucose_data/update/split_v2.npy\", [trn_idx, dev_idx, tst_idx])\n",
    "split_dict = {}\n",
    "for i in trn_idx:\n",
    "  split_dict[i] = \"trn\"\n",
    "for i in dev_idx:\n",
    "  split_dict[i] = \"dev\"\n",
    "for i in tst_idx:\n",
    "  split_dict[i] = \"tst\""
   ]
  },
  {
   "cell_type": "code",
   "execution_count": 19,
   "metadata": {},
   "outputs": [],
   "source": [
    "G_glucose_new = nx.DiGraph()\n",
    "\n",
    "for h, t, feat in G_Glucose.edges.data():\n",
    "  head_subj = h.split()[0]\n",
    "  tail_subj = t.split()[0]\n",
    "  reverse = False \n",
    "  # As in GLUCOSE all relations are cause. We need a flag \n",
    "  # to inverse head and tail to be compatible with ATOMIC rels\n",
    "  if feat[\"list_id\"] in [1, 6]:\n",
    "    new_rel = \"general Effect\"\n",
    "    if head_subj in [\"PersonX\", \"PeopleX\"]:\n",
    "      if tail_subj in [\"PersonX\", \"PeopleX\"]:\n",
    "        new_rel = \"xEffect\"\n",
    "      elif tail_subj in [\"PersonY\", \"PersonZ\", \"PeopleY\", \"PeopleZ\"]:\n",
    "        new_rel = \"oEffect\" \n",
    "  elif feat[\"list_id\"] == 2:\n",
    "    reverse = True\n",
    "    if \"feel\" in h:\n",
    "      new_rel = \"xAttr\"\n",
    "    else:\n",
    "      new_rel = \"xIntent\"\n",
    "  elif feat[\"list_id\"] in [3, 4, 8, 9]:\n",
    "    new_rel = \"Causes\"\n",
    "  elif feat[\"list_id\"] in [5, 10]:\n",
    "    new_rel = \"general Want\"\n",
    "    if head_subj in [\"PersonX\", \"PeopleX\"]:\n",
    "      if tail_subj in [\"PersonX\", \"PeopleX\"]:\n",
    "        new_rel = \"xWant\"\n",
    "      elif tail_subj in [\"PersonY\", \"PersonZ\", \"PeopleY\", \"PeopleZ\"]:\n",
    "        new_rel = \"oWant\"\n",
    "  else:\n",
    "    new_rel = \"general React\"  \n",
    "    if head_subj in [\"PersonX\", \"PeopleX\"]:\n",
    "      if tail_subj in [\"PersonX\", \"PeopleX\"]:\n",
    "        new_rel = \"xReact\"\n",
    "      elif tail_subj in [\"PersonY\", \"PersonZ\", \"PeopleY\", \"PeopleZ\"]:\n",
    "        new_rel = \"oReact\"\n",
    "  if reverse:\n",
    "    G_glucose_new.add_edge(t, h, relation=[new_rel], split=split_dict[feat[\"hid\"]],)\n",
    "  else:\n",
    "    G_glucose_new.add_edge(h, t, relation=[new_rel], split=split_dict[feat[\"hid\"]],)"
   ]
  },
  {
   "cell_type": "code",
   "execution_count": 20,
   "metadata": {},
   "outputs": [],
   "source": [
    "nx.write_gpickle(G_glucose_new, '../../data/glucose_data/update/G_Glucose_atomic_rel_v2.pickle')"
   ]
  },
  {
   "cell_type": "code",
   "execution_count": null,
   "metadata": {},
   "outputs": [],
   "source": []
  }
 ],
 "metadata": {
  "kernelspec": {
   "display_name": "Python 3",
   "language": "python",
   "name": "python3"
  },
  "language_info": {
   "codemirror_mode": {
    "name": "ipython",
    "version": 3
   },
   "file_extension": ".py",
   "mimetype": "text/x-python",
   "name": "python",
   "nbconvert_exporter": "python",
   "pygments_lexer": "ipython3",
   "version": "3.8.5"
  }
 },
 "nbformat": 4,
 "nbformat_minor": 4
}
